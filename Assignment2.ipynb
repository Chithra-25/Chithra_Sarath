{
 "cells": [
  {
   "cell_type": "markdown",
   "id": "1e4c7fce-8720-4949-92da-aec517970c58",
   "metadata": {},
   "source": [
    "## 1 & 2.Analyse Weather data for a given region and use variables to store data"
   ]
  },
  {
   "cell_type": "code",
   "execution_count": 7,
   "id": "9ab1ac27-cf0e-4c90-91db-e9cc25deb18c",
   "metadata": {},
   "outputs": [
    {
     "name": "stdin",
     "output_type": "stream",
     "text": [
      "Enter the current Temperature of the region:  20\n",
      "Enter the humidity of the region in percentage:  40\n",
      "Enter the Precipitation of the region in percentage:  50\n",
      "Enter the Wind speed of the region:  2\n"
     ]
    },
    {
     "name": "stdout",
     "output_type": "stream",
     "text": [
      "Today's weather report is,\n",
      " Temperature:20.0\n",
      " Humidity:40.0 \n",
      " Precipitation:50.0\n"
     ]
    }
   ],
   "source": [
    "temperature=float(input(\"Enter the current Temperature of the region: \"))\n",
    "humidity=float(input(\"Enter the humidity of the region in percentage: \"))\n",
    "precipitation=float(input(\"Enter the Precipitation of the region in percentage: \"))\n",
    "Wind=float(input(\"Enter the Wind speed of the region: \"))\n",
    "\n",
    "print(f\"Today's weather report is,\\n Temperature:{temperature}\\n Humidity:{humidity} \\n Precipitation:{precipitation}\")\n"
   ]
  },
  {
   "cell_type": "markdown",
   "id": "84c3781c-afbf-4871-a17a-d121b4b654df",
   "metadata": {},
   "source": [
    "### 3.Implement conditional statements to determine weather statement"
   ]
  },
  {
   "cell_type": "code",
   "execution_count": 9,
   "id": "48f753d6-c23c-4761-88c7-7938c5a811a7",
   "metadata": {},
   "outputs": [
    {
     "name": "stdout",
     "output_type": "stream",
     "text": [
      "weather is cold\n"
     ]
    }
   ],
   "source": [
    "if temperature>=26 and temperature<=32:\n",
    "    print(\"It's a Sunny day\")\n",
    "elif temperature<26 and temperature>=18 and precipitation<=50:\n",
    "    print(\"weather is cold\")\n",
    "elif temperature<18:\n",
    "    print(\"it's freezing\")\n",
    "elif temperature>32:\n",
    "    print(\"it's too hot outside\")\n",
    "elif temperature<26 and precipitation>=75:\n",
    "    print(\"it's rainy day\")"
   ]
  },
  {
   "cell_type": "markdown",
   "id": "7e9a41cc-4d33-48a8-bfd5-59b4f901d65e",
   "metadata": {},
   "source": [
    "### 4.Funtion to calculate average temperature and humidity\n"
   ]
  },
  {
   "cell_type": "code",
   "execution_count": 1,
   "id": "f07a5d45-da90-4672-9ec0-b499ab5686bf",
   "metadata": {},
   "outputs": [
    {
     "name": "stdin",
     "output_type": "stream",
     "text": [
      "enter the number of inputs 2\n",
      "Enter Temperatures :  30\n",
      "Enter Humidities :  50\n",
      "Enter Temperatures :  35\n",
      "Enter Humidities :  60\n"
     ]
    },
    {
     "name": "stdout",
     "output_type": "stream",
     "text": [
      "Average Temperature is 32.5\n",
      "Average Humidity is 55.0\n"
     ]
    }
   ],
   "source": [
    "##function to get input to the list\n",
    "def get_inputs(n):\n",
    "##declaring list data types\n",
    "    temperatures = []\n",
    "    humidities = []\n",
    "   \n",
    "    for _ in range(n):\n",
    "        temp=float(input(\"Enter Temperatures : \"))\n",
    "        temperatures.append(temp)\n",
    "        humid=float(input(\"Enter Humidities : \"))\n",
    "        humidities.append(humid)\n",
    "    return temperatures,humidities\n",
    "\n",
    "##funtion to calculate average \n",
    "def calculate_average(values):\n",
    "    average=sum(values)/len(values)\n",
    "    return average\n",
    "\n",
    "##variable to take number of inputs\n",
    "n = int(input(\"enter the number of inputs\"))\n",
    "temperatures,humidities=get_inputs(n)\n",
    "\n",
    "##invoking funtion to find average.\n",
    "\n",
    "T_avg=calculate_average(temperatures)\n",
    "H_avg=calculate_average(humidities)\n",
    "print(f\"Average Temperature is {T_avg}\")\n",
    "calculate_average(humidities)\n",
    "print(f\"Average Humidity is {H_avg}\")"
   ]
  },
  {
   "cell_type": "code",
   "execution_count": null,
   "id": "15f25866-5cbe-4855-9e4d-c88f01104c31",
   "metadata": {},
   "outputs": [],
   "source": []
  }
 ],
 "metadata": {
  "kernelspec": {
   "display_name": "Python 3 (ipykernel)",
   "language": "python",
   "name": "python3"
  },
  "language_info": {
   "codemirror_mode": {
    "name": "ipython",
    "version": 3
   },
   "file_extension": ".py",
   "mimetype": "text/x-python",
   "name": "python",
   "nbconvert_exporter": "python",
   "pygments_lexer": "ipython3",
   "version": "3.12.4"
  }
 },
 "nbformat": 4,
 "nbformat_minor": 5
}
