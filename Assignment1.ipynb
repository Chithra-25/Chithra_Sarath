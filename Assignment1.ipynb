{
 "cells": [
  {
   "cell_type": "markdown",
   "id": "993ca494-f60a-4618-8d4d-a89f73cf3d64",
   "metadata": {},
   "source": [
    "### 1.a Simulate bank account with deposit, withdrawal and balance enquiry options"
   ]
  },
  {
   "cell_type": "code",
   "execution_count": 13,
   "id": "7c7d6f10-7ee0-42e4-84f4-1a784f0ad952",
   "metadata": {},
   "outputs": [
    {
     "name": "stdout",
     "output_type": "stream",
     "text": [
      "Welcome to ABCD bank account simulator\n"
     ]
    },
    {
     "name": "stdin",
     "output_type": "stream",
     "text": [
      "For deposit : 1 \n",
      "For Withdrawal :2 \n",
      "For Balance Enquiry :3 \n",
      "Exit : 4 \n",
      "Enter an input for choice:  2\n"
     ]
    }
   ],
   "source": [
    "print(\"Welcome to ABCD bank account simulator\")\n",
    "choice=int(input(\"For deposit : 1 \\nFor Withdrawal :2 \\nFor Balance Enquiry :3 \\nExit : 4 \\nEnter an input for choice: \"))"
   ]
  },
  {
   "cell_type": "markdown",
   "id": "16a13b1f-6199-445f-9b7b-9517e64ce4a6",
   "metadata": {},
   "source": [
    "### 1.b, 1.c, 1.d - creating variables, using conditional statements before withdraw and functions"
   ]
  },
  {
   "cell_type": "code",
   "execution_count": 21,
   "id": "60d650d4-a19a-4d38-8fd2-247dba859e0a",
   "metadata": {},
   "outputs": [
    {
     "name": "stdin",
     "output_type": "stream",
     "text": [
      "Enter the amount to withdraw 500\n"
     ]
    },
    {
     "name": "stdout",
     "output_type": "stream",
     "text": [
      "Rs.500.0 withdrawn from your account and current balance is Rs. 0.0\n"
     ]
    }
   ],
   "source": [
    "##Using class to create bank account\n",
    "class bankaccount:\n",
    "\n",
    "    def __init__(self,initial_balance=0):\n",
    "        self.balance=initial_balance\n",
    "        \n",
    "##create function for deposit\n",
    "    \n",
    "    def deposit(self,amount):\n",
    "        if amount>0:\n",
    "            self.balance+=amount\n",
    "            print(f\"Rs.{amount} deposited in your account and current balance is Rs. {self.balance}\")\n",
    "        else:\n",
    "            print(\"invalid transaction\")\n",
    "            \n",
    "##create funtion for withdrawal\n",
    "    \n",
    "    def withdraw(self,amount):\n",
    "        print(\"Current Balance: \",self.balance)\n",
    "        if amount>self.balance:\n",
    "            print(\"Insufficient balance for current transaction\")\n",
    "        else:\n",
    "            self.balance-=amount\n",
    "            print(f\"Rs.{amount} withdrawn from your account and current balance is Rs. {self.balance}\")   \n",
    "            \n",
    "##create funtion to check balance\n",
    "    def balance_enquiry(self):\n",
    "        print(f\"Your Current Available balance is Rs.{self.balance}\") \n",
    "        \n",
    "##create funtion to get choice and use corresponding transaction\n",
    "    \n",
    "    def main():\n",
    "        \n",
    "        account=bankaccount(500)\n",
    "        \n",
    "        if choice==1:\n",
    "            amount=float(input(\"Enter the amount to deposit\"))\n",
    "            account.deposit(amount)\n",
    "\n",
    "        elif choice==2:\n",
    "            amount=float(input(\"Enter the amount to withdraw\"))\n",
    "            account.withdraw(amount)\n",
    "\n",
    "        elif choice==3:\n",
    "            account.balance_enquiry()\n",
    "\n",
    "        elif choice==4:\n",
    "            print(\" Your Transaction Cancelled. Visit Again!\")\n",
    "\n",
    "        else:\n",
    "            print(\"invalid input\")\n",
    "    main()"
   ]
  },
  {
   "cell_type": "markdown",
   "id": "21923173-29a7-42a8-b3c3-45d1ab7d09bc",
   "metadata": {},
   "source": []
  }
 ],
 "metadata": {
  "kernelspec": {
   "display_name": "Python 3 (ipykernel)",
   "language": "python",
   "name": "python3"
  },
  "language_info": {
   "codemirror_mode": {
    "name": "ipython",
    "version": 3
   },
   "file_extension": ".py",
   "mimetype": "text/x-python",
   "name": "python",
   "nbconvert_exporter": "python",
   "pygments_lexer": "ipython3",
   "version": "3.12.4"
  }
 },
 "nbformat": 4,
 "nbformat_minor": 5
}
